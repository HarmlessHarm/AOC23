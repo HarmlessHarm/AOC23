{
 "cells": [
  {
   "cell_type": "code",
   "execution_count": 1,
   "metadata": {},
   "outputs": [
    {
     "name": "stdout",
     "output_type": "stream",
     "text": [
      "Requirement already satisfied: numpy in c:\\users\\harm\\documents\\repositories\\aoc23\\.venv\\lib\\site-packages (1.26.2)\n",
      "Note: you may need to restart the kernel to use updated packages.\n"
     ]
    }
   ],
   "source": [
    "%pip install numpy\n",
    "%load_ext autoreload\n",
    "%autoreload 2\n"
   ]
  },
  {
   "cell_type": "code",
   "execution_count": 25,
   "metadata": {},
   "outputs": [],
   "source": [
    "# Helper functions\n",
    "\n",
    "def readFile(input_path):\n",
    "\twith open(input_path) as file:\n",
    "\t\treturn list(map(str.strip, file.readlines()))"
   ]
  },
  {
   "cell_type": "markdown",
   "metadata": {},
   "source": [
    "### Day 1"
   ]
  },
  {
   "cell_type": "code",
   "execution_count": 72,
   "metadata": {},
   "outputs": [
    {
     "name": "stdout",
     "output_type": "stream",
     "text": [
      "142\n",
      "281\n",
      "\n",
      "54388\n",
      "53515\n",
      "\n"
     ]
    }
   ],
   "source": [
    "import re\n",
    "\n",
    "def getCalibrationValue(line):\n",
    "\tregDigits = \"(\\d)\"\n",
    "\tdigits = re.findall(regDigits, line)\n",
    "\tif len(digits) == 0:\n",
    "\t\treturn 0\n",
    "\ttwoDigit = digits[0] + digits[-1]\n",
    "\treturn int(twoDigit)\n",
    "\t\n",
    "def getCalibrationValueB(line):\n",
    "\tnumber_map = {\n",
    "\t\t'one': 1,\n",
    "\t\t'two': 2,\n",
    "\t\t'three': 3,\n",
    "\t\t'four': 4,\n",
    "\t\t'five': 5,\n",
    "\t\t'six': 6,\n",
    "\t\t'seven': 7,\n",
    "\t\t'eight': 8,\n",
    "\t\t'nine': 9,\n",
    "\t\t'1': 1,\n",
    "\t\t'2': 2,\n",
    "\t\t'3': 3,\n",
    "\t\t'4': 4,\n",
    "\t\t'5': 5,\n",
    "\t\t'6': 6,\n",
    "\t\t'7': 7,\n",
    "\t\t'8': 8,\n",
    "\t\t'9': 9,\n",
    "\t}\n",
    "\tregLeft = \"(\\d|one|two|three|four|five|six|seven|eight|nine).*\"\n",
    "\tregRight = \".*(\\d|one|two|three|four|five|six|seven|eight|nine)\"\n",
    "\tleft = re.search(regLeft, line)\n",
    "\tright = re.search(regRight, line)\n",
    "\tif None in [left, right]:\n",
    "\t\treturn 0\n",
    "\n",
    "\t\n",
    "\ttwoDigit = f\"{number_map[left.groups()[0]]}{number_map[right.groups()[0]]}\"\n",
    "\treturn int(twoDigit)\n",
    "\t\n",
    "\n",
    "def getCalibrationSum(input_list, B=False):\n",
    "\tif B:\n",
    "\t\tgetValue =getCalibrationValueB\n",
    "\telse:\n",
    "\t\tgetValue =getCalibrationValue\n",
    "\tcal_vals = list(map(getValue, input_list))\n",
    "\treturn sum(cal_vals)\n",
    "\n",
    "\n",
    "\n",
    "test_input = readFile('day1/input_test.txt')\n",
    "test_input_2 = readFile('day1/input_test_2.txt')\n",
    "print(getCalibrationSum(test_input))\n",
    "print(getCalibrationSum(test_input_2, B=True))\n",
    "print()\n",
    "\n",
    "real_input = readFile('day1/input_1.txt')\n",
    "print(getCalibrationSum(real_input))\n",
    "print(getCalibrationSum(real_input, B=True))\n",
    "print()"
   ]
  },
  {
   "cell_type": "code",
   "execution_count": null,
   "metadata": {},
   "outputs": [],
   "source": []
  }
 ],
 "metadata": {
  "kernelspec": {
   "display_name": ".venv",
   "language": "python",
   "name": "python3"
  },
  "language_info": {
   "codemirror_mode": {
    "name": "ipython",
    "version": 3
   },
   "file_extension": ".py",
   "mimetype": "text/x-python",
   "name": "python",
   "nbconvert_exporter": "python",
   "pygments_lexer": "ipython3",
   "version": "3.9.7"
  }
 },
 "nbformat": 4,
 "nbformat_minor": 2
}
